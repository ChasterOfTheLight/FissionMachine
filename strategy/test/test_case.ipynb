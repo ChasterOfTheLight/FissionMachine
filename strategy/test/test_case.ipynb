{
 "cells": [
  {
   "cell_type": "markdown",
   "metadata": {},
   "source": [
    "## 查询交易列表"
   ]
  },
  {
   "cell_type": "code",
   "execution_count": null,
   "metadata": {},
   "outputs": [],
   "source": [
    "import akshare as ak\n",
    "\n",
    "print(ak.stock_zh_a_spot_em())"
   ]
  },
  {
   "cell_type": "markdown",
   "metadata": {},
   "source": [
    "## 查询财务数据"
   ]
  },
  {
   "cell_type": "code",
   "execution_count": 20,
   "metadata": {},
   "outputs": [
    {
     "name": "stdout",
     "output_type": "stream",
     "text": [
      "\n",
      "2024年ROE: 2.464\n",
      "\n",
      "2024年资产负债率: 42.892198\n"
     ]
    }
   ],
   "source": [
    "import akshare as ak\n",
    "import pandas as pd\n",
    "\n",
    "# 设置显示选项\n",
    "pd.set_option('display.max_rows', None)\n",
    "pd.set_option('display.max_columns', None)\n",
    "\n",
    "# 获取财务数据\n",
    "df = ak.stock_financial_abstract(symbol=\"600882\")\n",
    "\n",
    "# 获取包含20241231的列名（列名通常是日期）\n",
    "date_cols = [col for col in df.columns if '20241231' in str(col)]\n",
    "\n",
    "if date_cols:\n",
    "    # 筛选ROE指标\n",
    "    roe_data = df[df['指标'] == '净资产收益率(ROE)']\n",
    "    if not roe_data.empty:\n",
    "        roe_value = roe_data.iloc[0][date_cols[0]]\n",
    "        print(f\"\\n2024年ROE: {roe_value}\")\n",
    "    else:\n",
    "        print(\"未找到ROE指标数据\")\n",
    "    \n",
    "    # 筛选资产负债率指标\n",
    "    debt_asset_data = df[df['指标'] == '资产负债率']\n",
    "    if not debt_asset_data.empty:\n",
    "        debt_asset_value = debt_asset_data.iloc[0][date_cols[0]]\n",
    "        print(f\"\\n2024年资产负债率: {debt_asset_value}\")\n",
    "    else:\n",
    "        print(\"未找到资产负债率指标数据\")\n",
    "else:\n",
    "    print(\"未找到2024年数据\")"
   ]
  }
 ],
 "metadata": {
  "kernelspec": {
   "display_name": "venv",
   "language": "python",
   "name": "python3"
  },
  "language_info": {
   "codemirror_mode": {
    "name": "ipython",
    "version": 3
   },
   "file_extension": ".py",
   "mimetype": "text/x-python",
   "name": "python",
   "nbconvert_exporter": "python",
   "pygments_lexer": "ipython3",
   "version": "3.12.6"
  }
 },
 "nbformat": 4,
 "nbformat_minor": 2
}
