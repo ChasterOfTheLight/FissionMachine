{
 "cells": [
  {
   "cell_type": "markdown",
   "metadata": {},
   "source": [
    "## 查询交易列表"
   ]
  },
  {
   "cell_type": "code",
   "execution_count": null,
   "metadata": {},
   "outputs": [],
   "source": [
    "import akshare as ak\n",
    "\n",
    "print(ak.stock_zh_a_spot_em())"
   ]
  },
  {
   "cell_type": "markdown",
   "metadata": {},
   "source": [
    "## 查询财务数据"
   ]
  },
  {
   "cell_type": "code",
   "execution_count": null,
   "metadata": {},
   "outputs": [],
   "source": [
    "import akshare as ak\n",
    "import pandas as pd\n",
    "\n",
    "# 设置显示选项\n",
    "pd.set_option('display.max_rows', None)\n",
    "pd.set_option('display.max_columns', None)\n",
    "\n",
    "# 获取财务数据\n",
    "df = ak.stock_financial_abstract(symbol=\"603057\")\n",
    "\n",
    "# 获取包含20241231的列名（列名通常是日期）\n",
    "date_cols = [col for col in df.columns if '20241231' in str(col)]\n",
    "\n",
    "if date_cols:\n",
    "    # 筛选ROE指标\n",
    "    roe_data = df[df['指标'] == '净资产收益率(ROE)']\n",
    "    if not roe_data.empty:\n",
    "        roe_value = roe_data.iloc[0][date_cols[0]]\n",
    "        print(f\"\\n2024年ROE: {roe_value}\")\n",
    "    else:\n",
    "        print(\"未找到ROE指标数据\")\n",
    "    \n",
    "    # 筛选资产负债率指标\n",
    "    debt_asset_data = df[df['指标'] == '资产负债率']\n",
    "    if not debt_asset_data.empty:\n",
    "        debt_asset_value = debt_asset_data.iloc[0][date_cols[0]]\n",
    "        print(f\"\\n2024年资产负债率: {debt_asset_value}\")\n",
    "    else:\n",
    "        print(\"未找到资产负债率指标数据\")\n",
    "else:\n",
    "    print(\"未找到2024年数据\")"
   ]
  },
  {
   "cell_type": "markdown",
   "metadata": {},
   "source": [
    "## 板块"
   ]
  },
  {
   "cell_type": "code",
   "execution_count": null,
   "metadata": {},
   "outputs": [],
   "source": [
    "import akshare as ak\n",
    "import pandas as pd\n",
    "\n",
    "# 设置显示选项\n",
    "pd.set_option('display.max_rows', None)\n",
    "pd.set_option('display.max_columns', None)\n",
    "pd.set_option('display.width', None)  # 自动调整显示宽度\n",
    "pd.set_option('display.max_colwidth', None)  # 显示完整的列内容\n",
    "\n",
    "# 获取行业数据\n",
    "industry_df = ak.stock_board_industry_name_em()\n",
    "\n",
    "# 打印行数和列数\n",
    "print(f\"总行数: {len(industry_df)}\")\n",
    "\n",
    "# 打印完整数据\n",
    "print(\"行业数据:\")\n",
    "print(industry_df.to_string(index=True))"
   ]
  },
  {
   "cell_type": "markdown",
   "metadata": {},
   "source": [
    "## 获取全部股票代码"
   ]
  },
  {
   "cell_type": "code",
   "execution_count": null,
   "metadata": {},
   "outputs": [],
   "source": [
    "import akshare as ak\n",
    "\n",
    "market_indicator = ak.stock_a_indicator_lg(symbol=\"all\")\n",
    "\n",
    "print(market_indicator)"
   ]
  },
  {
   "cell_type": "markdown",
   "metadata": {},
   "source": [
    "## 获取财务指标"
   ]
  },
  {
   "cell_type": "code",
   "execution_count": null,
   "metadata": {},
   "outputs": [],
   "source": [
    "import akshare as ak\n",
    "\n",
    "financail_indicator = ak.stock_financial_analysis_indicator(symbol=\"603057\", start_year=\"2024\")\n",
    "\n",
    "print(financail_indicator)"
   ]
  },
  {
   "cell_type": "code",
   "execution_count": 11,
   "metadata": {},
   "outputs": [
    {
     "name": "stdout",
     "output_type": "stream",
     "text": [
      "报告期           2024-09-30\n",
      "净利润             7466.04万\n",
      "净利润同比增长率         112.01%\n",
      "扣非净利润             -5.70亿\n",
      "扣非净利润同比增长率        33.10%\n",
      "营业总收入             93.37亿\n",
      "营业总收入同比增长率       -48.36%\n",
      "基本每股收益            0.0200\n",
      "每股净资产               4.51\n",
      "每股资本公积金             3.24\n",
      "每股未分配利润            -0.09\n",
      "每股经营现金流            -0.36\n",
      "销售净利率              0.23%\n",
      "销售毛利率             27.68%\n",
      "净资产收益率             0.51%\n",
      "净资产收益率-摊薄          0.49%\n",
      "营业周期              508.15\n",
      "存货周转率               0.83\n",
      "存货周转天数            323.62\n",
      "应收账款周转天数          184.53\n",
      "流动比率                1.37\n",
      "速动比率                0.84\n",
      "保守速动比率              0.73\n",
      "产权比率                2.00\n",
      "资产负债率             60.39%\n",
      "Name: 104, dtype: object\n"
     ]
    }
   ],
   "source": [
    "import akshare as ak\n",
    "\n",
    "financail_indicator = ak.stock_financial_abstract_ths(\"600100\", \"按报告期\")\n",
    "\n",
    "# 打印最新一条数据\n",
    "print(financail_indicator.iloc[-1])"
   ]
  }
 ],
 "metadata": {
  "kernelspec": {
   "display_name": "venv",
   "language": "python",
   "name": "python3"
  },
  "language_info": {
   "codemirror_mode": {
    "name": "ipython",
    "version": 3
   },
   "file_extension": ".py",
   "mimetype": "text/x-python",
   "name": "python",
   "nbconvert_exporter": "python",
   "pygments_lexer": "ipython3",
   "version": "3.12.6"
  }
 },
 "nbformat": 4,
 "nbformat_minor": 2
}
